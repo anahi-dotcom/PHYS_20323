{
  "metadata": {
    "kernelspec": {
      "name": "python",
      "display_name": "Python (Pyodide)",
      "language": "python"
    },
    "language_info": {
      "codemirror_mode": {
        "name": "python",
        "version": 3
      },
      "file_extension": ".py",
      "mimetype": "text/x-python",
      "name": "python",
      "nbconvert_exporter": "python",
      "pygments_lexer": "ipython3",
      "version": "3.8"
    }
  },
  "nbformat_minor": 4,
  "nbformat": 4,
  "cells": [
    {
      "cell_type": "markdown",
      "source": "# Phyiscs Problems - Lectures 22 & 23 - Homework 10\n\nFALL 2024\n",
      "metadata": {}
    },
    {
      "cell_type": "markdown",
      "source": "### 1) Altitude of a satellite\n\nA satellite is to be launched into a circular orbit around the Earth so that it orbits the planet once every T seconds.\n\nThe altitude h above the Earth’s surface that the satellite must have is:\n\n$$h = \\left( \\frac{G M T^2}{4\\pi^2} \\right)^{1/3} - R$$\n\nwhere $G = 6.67 \\times 10^{-11}$ m$^3$ kg$^{-1}$ s$^{-2}$\nis Newton's gravitational constant, $M = 5.97 \\times 10^{24}$ kg is the mass of the Earth, and $R = 6371$ km is its radius.\n\n#### Write a function that asks the user to enter the desired value of T and then calculates and prints out the correct altitude in meters.\n",
      "metadata": {}
    },
    {
      "cell_type": "code",
      "source": "T = float(input(\"Input a value: T =\"))\nimport numpy as np\ndef altitude(T):\n    g = 6.67*(10**(-11))\n    m = 5.97*(10**24)\n    r = 6371\n    h = (((g*m*(T**2))/(4*((np.pi)**2)))**(1/3)) - r\n    return h\n\nprint(altitude(T))",
      "metadata": {
        "trusted": true
      },
      "outputs": [
        {
          "ename": "<class 'TypeError'>",
          "evalue": "float() argument must be a string or a real number, not 'PyodideFuture'",
          "traceback": [
            "\u001b[0;31m---------------------------------------------------------------------------\u001b[0m",
            "\u001b[0;31mTypeError\u001b[0m                                 Traceback (most recent call last)",
            "Cell \u001b[0;32mIn[3], line 1\u001b[0m\n\u001b[0;32m----> 1\u001b[0m T \u001b[38;5;241m=\u001b[39m \u001b[38;5;28;43mfloat\u001b[39;49m\u001b[43m(\u001b[49m\u001b[38;5;28;43minput\u001b[39;49m\u001b[43m(\u001b[49m\u001b[38;5;124;43m\"\u001b[39;49m\u001b[38;5;124;43mInput value: T =\u001b[39;49m\u001b[38;5;124;43m\"\u001b[39;49m\u001b[43m)\u001b[49m\u001b[43m)\u001b[49m\n\u001b[1;32m      2\u001b[0m \u001b[38;5;28;01mimport\u001b[39;00m \u001b[38;5;21;01mnumpy\u001b[39;00m \u001b[38;5;28;01mas\u001b[39;00m \u001b[38;5;21;01mnp\u001b[39;00m\n\u001b[1;32m      3\u001b[0m \u001b[38;5;28;01mdef\u001b[39;00m \u001b[38;5;21maltitdue\u001b[39m(T):\n",
            "\u001b[0;31mTypeError\u001b[0m: float() argument must be a string or a real number, not 'PyodideFuture'"
          ],
          "output_type": "error"
        },
        {
          "output_type": "stream",
          "name": "stdin",
          "text": "Input value: T = 11\n"
        }
      ],
      "execution_count": 3
    },
    {
      "cell_type": "markdown",
      "source": "Use your program to calculate the altitudes of satellites that orbit the Earth once\na day (so-called “geosynchronous” orbit), once every 90 minutes, and once every\n45 minutes. What do you conclude from the last of these calculations?\n\n\n\n",
      "metadata": {}
    },
    {
      "cell_type": "code",
      "source": "geosync = 24*60*60\nhourhalf = 90*60\nmin45 = 45*60\nprint(\"24 hours: Altitude =\",altitude(geosync), \"; 90 min: Altitude =\",altitude(hourhalf),\n      \";  45 min: Altitude =\",altitude(min45))",
      "metadata": {
        "trusted": true
      },
      "outputs": [
        {
          "ename": "<class 'NameError'>",
          "evalue": "name 'altitude' is not defined",
          "traceback": [
            "\u001b[0;31m---------------------------------------------------------------------------\u001b[0m",
            "\u001b[0;31mNameError\u001b[0m                                 Traceback (most recent call last)",
            "Cell \u001b[0;32mIn[4], line 4\u001b[0m\n\u001b[1;32m      2\u001b[0m hourhalf \u001b[38;5;241m=\u001b[39m \u001b[38;5;241m90\u001b[39m\u001b[38;5;241m*\u001b[39m\u001b[38;5;241m60\u001b[39m\n\u001b[1;32m      3\u001b[0m min45 \u001b[38;5;241m=\u001b[39m \u001b[38;5;241m45\u001b[39m\u001b[38;5;241m*\u001b[39m\u001b[38;5;241m60\u001b[39m\n\u001b[0;32m----> 4\u001b[0m \u001b[38;5;28mprint\u001b[39m(\u001b[38;5;124m\"\u001b[39m\u001b[38;5;124m24 hours: Altitude =\u001b[39m\u001b[38;5;124m\"\u001b[39m,\u001b[43maltitude\u001b[49m(geosync), \u001b[38;5;124m\"\u001b[39m\u001b[38;5;124m; 90 min: Altitude =\u001b[39m\u001b[38;5;124m\"\u001b[39m,altitude(hourhalf),\n\u001b[1;32m      5\u001b[0m       \u001b[38;5;124m\"\u001b[39m\u001b[38;5;124m;  45 min: Altitude =\u001b[39m\u001b[38;5;124m\"\u001b[39m,altitude(min45))\n",
            "\u001b[0;31mNameError\u001b[0m: name 'altitude' is not defined"
          ],
          "output_type": "error"
        }
      ],
      "execution_count": 4
    },
    {
      "cell_type": "markdown",
      "source": "Technically a geosynchronous satellite is one that orbits the Earth once persidereal\nday, which is 23.93 hours, not 24 hours. Why is this? And how much difference\nwill it make to the altitude of the satellite?",
      "metadata": {}
    },
    {
      "cell_type": "code",
      "source": "persidereal = 23.93*60*60\nprint(\"24 hours: Altitude =\",altitude(geosync), \"; 90 min: Altitude =\",altitude(persidereal))\nprint(\"Difference;\", altitude(geosync)-altitude(persidereal))",
      "metadata": {
        "trusted": true
      },
      "outputs": [],
      "execution_count": null
    },
    {
      "cell_type": "markdown",
      "source": "#### Modify your code to calculate the times from 0.5 hour  to 30 days, in steps of 0.5 hours.   Then plot those data points (time vs h) with properly labled axes.  Plot orbits with height below 0 as red, and plots positive heeghts with times less than geosynchronous in blue and those longer in green.",
      "metadata": {}
    },
    {
      "cell_type": "code",
      "source": "import numpy as np\ntime = np.arange(0.5,30,0.5)\n\nh = altitude(time)\n\nimport matplotlib.pyplot as plt\n\nfig = plt.figure(figsize=(10,10))\nax = fig.add_subplot(111)\nax.scatter(time[h<0],h[h<0],s=20,c='r',alpha=0.8)\n\nax.scatter(time[h<geosync],h[h<geosync],s=20,c='b',alpha=0.8)\n\nax.scatter(time[h>geosync],h[h>geosync],s=20,c='g',alpha=0.8)\n\n\nax.set_xlabel(\"h\",size=30)\nax.set_ylabel(\"time\",size=30)\n\nax.xaxis.set_tick_params(labelsize=20)\nax.yaxis.set_tick_params(labelsize=20)\n\nprint(altidue(T))",
      "metadata": {
        "trusted": true
      },
      "outputs": [],
      "execution_count": null
    },
    {
      "cell_type": "markdown",
      "source": "### 2) Special Relativity\n\nA spaceship travels from Earth in a straight line at a (relativistic)\nspeed $v$ to another planet $x$ light years away. Write a program to ask\nthe user for the value of $x$ and the speed $v$ as a fraction of the speed\nof light, then print out the time in years that the spaceship takes to\nreach its destination (a) in the rest frame of an observer on Earth\nand (b) as perceived by a passenger on board the ship.\n\n$$x' = \\gamma (x - vt)$$\n\n$$t' = \\gamma \\left(t - \\frac{v x}{c^2}\\right)$$\n\n$$\\gamma = \\frac{1}{\\sqrt{1 - \\frac{v^2}{c^2}}}$$\n",
      "metadata": {}
    },
    {
      "cell_type": "code",
      "source": "import math\n\n\ndef years():\n    x = float(input(\"Input a value: x=\"))\n    v = float(input(\"Input value as a fraction of c: v =\"))\n    c = 3e8\n    t = x/v\n    gamma = 1/(math.sqrt(1-(v**2)))\n    tprime = gamma*(t-(v*x)/(c))\n    xprime = gamma*(x-(v*t))\n    return tprime, t\n\nprint(years())",
      "metadata": {
        "trusted": true
      },
      "outputs": [
        {
          "ename": "<class 'TypeError'>",
          "evalue": "float() argument must be a string or a real number, not 'PyodideFuture'",
          "traceback": [
            "\u001b[0;31m---------------------------------------------------------------------------\u001b[0m",
            "\u001b[0;31mTypeError\u001b[0m                                 Traceback (most recent call last)",
            "Cell \u001b[0;32mIn[5], line 14\u001b[0m\n\u001b[1;32m     11\u001b[0m     xprime \u001b[38;5;241m=\u001b[39m gamma\u001b[38;5;241m*\u001b[39m(x\u001b[38;5;241m-\u001b[39m(v\u001b[38;5;241m*\u001b[39mt))\n\u001b[1;32m     12\u001b[0m     \u001b[38;5;28;01mreturn\u001b[39;00m tprime, t\n\u001b[0;32m---> 14\u001b[0m \u001b[38;5;28mprint\u001b[39m(\u001b[43myears\u001b[49m\u001b[43m(\u001b[49m\u001b[43m)\u001b[49m)\n",
            "Cell \u001b[0;32mIn[5], line 5\u001b[0m, in \u001b[0;36myears\u001b[0;34m()\u001b[0m\n\u001b[1;32m      4\u001b[0m \u001b[38;5;28;01mdef\u001b[39;00m \u001b[38;5;21myears\u001b[39m():\n\u001b[0;32m----> 5\u001b[0m     x \u001b[38;5;241m=\u001b[39m \u001b[38;5;28;43mfloat\u001b[39;49m\u001b[43m(\u001b[49m\u001b[38;5;28;43minput\u001b[39;49m\u001b[43m(\u001b[49m\u001b[38;5;124;43m\"\u001b[39;49m\u001b[38;5;124;43mInput a value: x=\u001b[39;49m\u001b[38;5;124;43m\"\u001b[39;49m\u001b[43m)\u001b[49m\u001b[43m)\u001b[49m\n\u001b[1;32m      6\u001b[0m     v \u001b[38;5;241m=\u001b[39m \u001b[38;5;28mfloat\u001b[39m(\u001b[38;5;28minput\u001b[39m(\u001b[38;5;124m\"\u001b[39m\u001b[38;5;124mInput value as a fraction of c: v =\u001b[39m\u001b[38;5;124m\"\u001b[39m))\n\u001b[1;32m      7\u001b[0m     c \u001b[38;5;241m=\u001b[39m \u001b[38;5;241m3e8\u001b[39m\n",
            "\u001b[0;31mTypeError\u001b[0m: float() argument must be a string or a real number, not 'PyodideFuture'"
          ],
          "output_type": "error"
        },
        {
          "output_type": "stream",
          "name": "stdin",
          "text": "Input a value: x= 7\n"
        }
      ],
      "execution_count": 5
    },
    {
      "cell_type": "markdown",
      "source": "#### Use your program to calculate the answers for a planet 10 light years away with $v = 0.90c$,  $v = 0.98c$, $v = 0.999c$.",
      "metadata": {}
    },
    {
      "cell_type": "code",
      "source": "def years(v,x):\n    c = 3e8\n    t = x/v\n    gamma = 1/(math.sqrt(1-(v**2)))\n    tprime = gamma*(t-(v*x)/(c))\n    xprime = gamma*(x-(v*t))\n    return tprime, t\n\nprint(years(0.9,10))\nprint(years(0.98,10))\nprint(years(0.999,10))",
      "metadata": {
        "trusted": true
      },
      "outputs": [
        {
          "name": "stdout",
          "text": "(25.490637027904366, 11.11111111111111)\n(51.2774393898852, 10.204081632653061)\n(223.8866062835252, 10.01001001001001)\n",
          "output_type": "stream"
        }
      ],
      "execution_count": 7
    },
    {
      "cell_type": "markdown",
      "source": "### 3) The quadratic equation\n\n Write a program that takes as input three numbers, $a$, $b$, and $c$, and prints out the two solutions to the quadratic equation $ax^2 + bx + c = 0$ using the standard\nformula:\n\n$$x = \\frac{-b \\pm \\sqrt{b^2 - 4ac}}{2a}$$\n\nUse your program to compute the solutions of $0.001x^2 + 1000x + 0.001 = 0$.",
      "metadata": {}
    },
    {
      "cell_type": "code",
      "source": "def pos_solutions(a,b,c):\n    x = (-b + math.sqrt((b**2)-4*a*c))/(2*a)\n    return x\ndef neg_solutions(a,b,c):\n    x = (-b - math.sqrt((b**2)-4*a*c))/(2*a)\n    return x\n\nprint(\"x=\",pos_solutions(0.001,1000,0.001),\",\",\"x=\",neg_solutions(0.001,1000,0.001))",
      "metadata": {
        "trusted": true
      },
      "outputs": [
        {
          "name": "stdout",
          "text": "x= -9.999894245993346e-07 , x= -999999.999999\n",
          "output_type": "stream"
        }
      ],
      "execution_count": 8
    },
    {
      "cell_type": "markdown",
      "source": "There is another way to write the solutions to a quadratic equation. Multiplying top and bottom of the solution above by $-b \\mp \\sqrt{b^2 - 4ac}$, show that the solutions\ncan also be written as:\n\n$$x = \\frac{2c}{-b \\mp \\sqrt{b^2 - 4ac}}$$\n\nAdd further lines to your program to print these values in addition to the earlier ones and again use the program to solve $0.001x^2 + 1000x + 0.001 = 0$. What do you see? How do you explain it?",
      "metadata": {}
    },
    {
      "cell_type": "code",
      "source": "def pos_solutions(a,b,c):\n    x = (2*c)/(-b + (math.sqrt((b**2)-4*a*c)))\n    return x\ndef neg_solutions(a,b,c):\n    x = (2*c)/(-b - (math.sqrt((b**2)-4*a*c)))\n    return x\n\nprint(\"x=\",pos_solutions(0.001,1000,0.001),\",\",\"x=\",neg_solutions(0.001,1000,0.001))",
      "metadata": {
        "trusted": true
      },
      "outputs": [
        {
          "name": "stdout",
          "text": "x= -1000010.5755125057 , x= -1.000000000001e-06\n",
          "output_type": "stream"
        }
      ],
      "execution_count": 9
    },
    {
      "cell_type": "markdown",
      "source": "Using what you have learned, write a new program that calculates both roots of a quadratic equation accurately in all cases. \n\n__(NOTE: MANY Online quadratic equation are WRONG, so careful how you check!!!).__",
      "metadata": {}
    }
  ]
}