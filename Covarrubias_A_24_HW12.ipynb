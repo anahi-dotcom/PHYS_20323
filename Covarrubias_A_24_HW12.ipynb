{
  "metadata": {
    "kernelspec": {
      "name": "python",
      "display_name": "Python (Pyodide)",
      "language": "python"
    },
    "language_info": {
      "codemirror_mode": {
        "name": "python",
        "version": 3
      },
      "file_extension": ".py",
      "mimetype": "text/x-python",
      "name": "python",
      "nbconvert_exporter": "python",
      "pygments_lexer": "ipython3",
      "version": "3.8"
    }
  },
  "nbformat_minor": 4,
  "nbformat": 4,
  "cells": [
    {
      "cell_type": "markdown",
      "source": "## Python Data fitting with various functions - HW 12\nDue Monday Dec 2, 2024\n\n\n\nDowload the data \"miniDR17.fits\" from the TCU Online Week 14:<br>\n<i>NOTE: it is a large-ish file and may take a while.</i>\n\n**However, this is a small version of the full science data file (4 GB) which can be found at:**<br>\nhttps://data.sdss.org/sas/dr17/apogee/spectro/aspcap/dr17/synspec_rev1/allStar-dr17-synspec_rev1.fits\n\n\nMy example below will show how to remove Identified bad data, \nhowever data that are just bad in one quantity may remain\n\n_Use masking to remove any remaining bad values (typically 9999 or -9999 in this file_ , <b>but check!!!! If you are not sure, ask!!!</b>). ",
      "metadata": {}
    },
    {
      "cell_type": "code",
      "source": "from matplotlib import pyplot as plt\nimport numpy as np\nfrom astropy.io import fits \nimport scipy.optimize as opt\n\n# POTENTIAL FITTING FUNCTIONS\ndef linear(x,m,b):\n    return m*x+b\n\ndef poly2(x,a,b,c):\n    return a*(x**2)+(b*x)+c\n\ndef poly3(x,a,b,c,d):\n    return (a*(x**3))+(b*(x**2))+(c*x)+d\n\ndef cosfit (x,a,b,c,d):\n    return a*np.cos(b*x + c) + d\n\ndef exponential(x,a,b,c,d):\n    return a*np.exp(b*x + c) + d\n\n\n# Monte Carlo-version of 2 parameter Curve Fit that can use BOTH x and Y errors\ndef mcFit2(func, x, y, x_err=0.1, y_err=0.1, p0=[0,0]):\n    slope = list()\n    y_ints = list()\n    iters = 500 \n    for i in range(iters):\n        # remember random normal distribution (Gaussian)\n        weightsx = np.random.randn(len(y))\n        weightsy = np.random.randn(len(y))\n        y_adj = y + y_err*weightsy\n        x_adj = x + x_err*weightsx \n        popt, pcov = opt.curve_fit(func, x_adj, y_adj, p0=p0)\n        slope.append(popt[0])\n        y_ints.append(popt[1])\n    return (np.median(slope),np.median(y_ints))\n\n\n# Monte Carlo-version of 3 parameter Curve Fit that can use BOTH x and Y errors\ndef mcFit3(func, x, y, x_err=0.1, y_err=0.1,p0=[1,1,1]):\n    paramA = list()\n    paramB = list()\n    paramC = list()\n    iters = 500 \n    for i in range(iters):\n        # remember random normal distribution (Gaussian)\n        weightsx = np.random.randn(len(y))\n        weightsy = np.random.randn(len(y))\n        y_adj = y + y_err*weightsy\n        x_adj = x + x_err*weightsx \n        popt, pcov = opt.curve_fit(func, x_adj, y_adj, p0=p0)\n        paramA.append(popt[0])\n        paramB.append(popt[1])\n        paramC.append(popt[2])\n    return (np.median(paramA),np.median(paramB),np.median(paramC))\n\n# Monte Carlo-version of 4 parameter Curve Fit that can use BOTH x and Y errors\ndef mcFit4(func, x, y, x_err=0.1, y_err=0.1, p0=[1,1,1,1]):\n    paramA = list()\n    paramB = list()\n    paramC = list()\n    paramD = list()\n    iters = 500 \n    for i in range(iters):\n        # remember random normal distribution (Gaussian)\n        weightsx = np.random.randn(len(y))\n        weightsy = np.random.randn(len(y))\n        y_adj = y + y_err*weightsy\n        x_adj = x + x_err*weightsx \n        popt, pcov = opt.curve_fit(func, x_adj, y_adj, p0=p0)\n        paramA.append(popt[0])\n        paramB.append(popt[1])\n        paramC.append(popt[2])\n        paramD.append(popt[3])\n    return (np.median(paramA),np.median(paramB),np.median(paramC),np.median(paramD))\n",
      "metadata": {
        "trusted": true
      },
      "outputs": [],
      "execution_count": 1
    },
    {
      "cell_type": "code",
      "source": "# READ IN FITS FILES\nstar_hdus = fits.open('miniDR17.fits')\nstar = star_hdus[1].data\nprint(star_hdus[1].columns)\nstar_hdus.close()",
      "metadata": {
        "trusted": true
      },
      "outputs": [],
      "execution_count": null
    },
    {
      "cell_type": "code",
      "source": "# TWO BITWISE FLAGS FOR BAD DATA - THESE REMOVE IDENTIFIED BAD DATA            \nbadbits = 2**23        # aspcapstar flag - Chemistry\nsuspectbits = 2**16    # star flag - Stellar parameters\n\n# Make a Boolena Mask to remove bad data\ngd = (np.bitwise_and(star['aspcapflag'], badbits) == 0) &\\\n     (np.bitwise_and(star['starflag'], suspectbits) == 0) \nbd = (np.bitwise_and(star['aspcapflag'], badbits) != 0) |\\\n     (np.bitwise_and(star['starflag'], suspectbits) != 0) \n\ngood = np.where(gd)[0]\nbad = np.where(bd)[0]\n\n# PLOT TO VERIFY FITS FILE READ IN & BAD MASK DATA\nfig = plt.figure(figsize=(12,8))\nax = fig.add_subplot(111)\nax.scatter(star['RA'][good],star['DEC'][good],s=1,c='b',alpha=0.1)\nax.scatter(star['RA'][bad],star['DEC'][bad],s=1,c='r',alpha=0.1)\n\n\nax.xaxis.set_tick_params(labelsize=20)\nax.yaxis.set_tick_params(labelsize=20)\nplt.show()",
      "metadata": {
        "trusted": true
      },
      "outputs": [],
      "execution_count": null
    },
    {
      "cell_type": "code",
      "source": "# EXAMPLE FIT - DR. FRINCHABOY\n# --------------------------------------------\n# First use Linear, Polnomial, and Cosine Fits\n# Select stars only with with  −2 < GLAT < 2   \n# \n# I FIT RA & DEC data versus LINEAR, POLY2, AND COSFIT in this example.  \n#\n# TWO BITWISE FLAGS TO REMOVE FOR OBVIOUSLY BAD DATA             \nbadbits = 2**23        # aspcapstar flag - Chemistry\nsuspectbits = 2**16    # star flag - Stellar parameters\n\n#=================================================================================\n# Make a Boolena Mask to remove bad data - AND ANY OTHER NEEDED CUTS \n# (e.g., −2 < GLAT < 2 ) or other 'bad' data not removed by the flags.\nct1 = (np.bitwise_and(star['aspcapflag'], badbits) == 0) & \\\n     (np.bitwise_and(star['starflag'], suspectbits) == 0) & \\\n     (star['GLAT'] < 2) &\\\n     (star['GLAT'] > -2) \ncut1 = np.where(ct1)[0]\n\n#=================================================================================\n## LINEAR FIT (2 parameter)\nslope, intercept = mcFit2(linear, star['RA'][cut1], star['DEC'][cut1], 0.001, \\\n                          0.001, p0=[0,0])\nprint(f'LINEAR: {slope:.3f}, {intercept:.3f}')\n\n#=================================================================================\n## POLY2 FIT (3 parameter)\npolyA, polyB, polyC,  = mcFit3(poly2, star['RA'][cut1], star['DEC'][cut1], 0.001, \\\n                         0.001,p0=[600,1,1])\nprint(f'POLY2: {polyA:.3f}, {polyB:.3f}, {polyC:.3f}')\n\n#=================================================================================\n## COS FIT (4 parameter)\ncfA, cfB, cfC, cfD = mcFit4(cosfit, star['RA'][cut1], star['DEC'][cut1], 0.001, \\\n                            0.001,p0=[60,0.02,0,0])\nprint(f'COSFIT: {cfA:.3f}, {cfB:.3f}, {cfC:.3f}, {cfD:.3f}')\n#=================================================================================\n\n\n\n# PLOT TO VERIFY FITS FILE READ IN & BAD MASK DATA\nfig1 = plt.figure(figsize=(10,7))\nax1 = fig1.add_subplot(111)\nax1.xaxis.set_tick_params(labelsize=20)\nax1.yaxis.set_tick_params(labelsize=20)\n\n# PLOT DATA AND ERROR BARS\nax1.scatter(star['RA'][cut1],star['DEC'][cut1],s=1,c='b',alpha=0.1)\nax1.errorbar((star['RA'][cut1]),star['DEC'][cut1], xerr=(0.001),\n             yerr=(0.001), ecolor='grey',fmt='none', capsize=5, zorder=0)\n\n\n#=================================================================================\n# PLOT DATA FITS FROM ABOVE\nx_plot = np.linspace(0,360,1000) # X-PLOTING FOR FITS\n\n#=================================================================================\n#linear fit\nax1.plot(x_plot,linear(x_plot, slope, intercept), label='Fit: linear')\n#poly2 fit\nax1.plot(x_plot,poly2(x_plot, polyA, polyB, polyC), label='Fit: poly2')\n#cosfit\nax1.plot(x_plot,cosfit(x_plot, cfA, cfB, cfC, cfD), label='Fit: cosfit')\n\nplt.legend(loc='best', fontsize=18)\nplt.show()",
      "metadata": {
        "trusted": true
      },
      "outputs": [],
      "execution_count": null
    },
    {
      "cell_type": "markdown",
      "source": "# Homework #12\n\n**REMINDER:** *All coding assignment will be turned in as .ipynb files, to the same PHYS_X0223 repository on GitHub.*   \n*They should be turned in with the following naming:*\n    \n    Lastname_Firstinitial_24_HW12a.ipynb",
      "metadata": {}
    },
    {
      "cell_type": "markdown",
      "source": "## DATA FIT 1\n\nFit a linear, polynomial (poly2), and a polynomial (poly3) functions and to the following selections of the data:\n1. Select stars only with with $ GLAT > 20$ <br>\n   __Fit Fe\\_H,  (Fe\\_H\\_ERR)  vs.  O\\_FE (O\\_FE\\_ERR)__<br>\n\nFor this fit of the above selection:\n\n1. What are the best-fit values of the parameters? \n2. Which fucntion fits the data best?\n3. Is there a second population? (Can you fit outliers with a reasonable linear trend?)",
      "metadata": {}
    },
    {
      "cell_type": "code",
      "source": "# TWO BITWISE FLAGS TO REMOVE FOR OBVIOUSLY BAD DATA             \nbadbits = 2**23        # aspcapstar flag - Chemistry\nsuspectbits = 2**16    # star flag - Stellar parameters\n\n#=================================================================================\n# Make a Boolena Mask to remove bad data - AND ANY OTHER NEEDED CUTS \n# (e.g., −2 < GLAT < 2 ) or other 'bad' data not removed by the flags.\nct1 = (np.bitwise_and(star['aspcapflag'], badbits) == 0) & \\\n     (np.bitwise_and(star['starflag'], suspectbits) == 0) & \\\n     (star['GLAT'] > 20) & \\\n     np.invert(np.isnan(star['FE_H'])) &\\\n     np.invert(np.isnan(star['O_FE']))    \ncut1 = np.where(ct1)[0]\n\n#=================================================================================\n## LINEAR FIT (2 parameter)\nslope, intercept = mcFit2(linear, star['FE_H'][cut1], star['O_FE'][cut1], 0.001, \\\n                          0.001, p0=[0,0])\nprint(f'LINEAR: {slope:.3f}, {intercept:.3f}')\n\n#=================================================================================\n## POLY2 FIT (3 parameter)\npolyA, polyB, polyC,  = mcFit3(poly2, star['FE_H'][cut1], star['O_FE'][cut1], 0.001, \\\n                         0.001,p0=[0.5,1,1])\nprint(f'POLY2: {polyA:.3f}, {polyB:.3f}, {polyC:.3f}')\n\n#=================================================================================\n## COS FIT (4 parameter)\ncfA, cfB, cfC, cfD = mcFit4(cosfit, star['FE_H'][cut1], star['O_FE'][cut1], 0.001, \\\n                            0.001,p0=[0.5,1,1,1])\nprint(f'COSFIT: {cfA:.3f}, {cfB:.3f}, {cfC:.3f}, {cfD:.3f}')\n#=================================================================================\n\n\n\n# PLOT TO VERIFY FITS FILE READ IN & BAD MASK DATA\nfig1 = plt.figure(figsize=(10,7))\nax1 = fig1.add_subplot(111)\nax1.xaxis.set_tick_params(labelsize=20)\nax1.yaxis.set_tick_params(labelsize=20)\n\n# PLOT DATA AND ERROR BARS\nax1.scatter(star['FE_H'][cut1],star['O_FE'][cut1],s=1,c='b',alpha=0.1)\nax1.errorbar((star['FE_H'][cut1]),star['O_FE'][cut1], xerr=(0.001),\n             yerr=(0.001), ecolor='grey',fmt='none', capsize=5, zorder=0)\n\n\n#=================================================================================\n# PLOT DATA FITS FROM ABOVE\nx_plot = np.linspace(-3,1,1000) # X-PLOTING FOR FITS\n\n#=================================================================================\n#linear fit\nax1.plot(x_plot,linear(x_plot, slope, intercept), label='Fit: linear')\n#poly2 fit\nax1.plot(x_plot,poly2(x_plot, polyA, polyB, polyC), label='Fit: poly2')\n#cosfit\nax1.plot(x_plot,cosfit(x_plot, cfA, cfB, cfC, cfD), label='Fit: poly3')\n\nplt.legend(loc='best', fontsize=18)\nplt.show()",
      "metadata": {
        "trusted": true
      },
      "outputs": [],
      "execution_count": null
    },
    {
      "cell_type": "markdown",
      "source": "## DATA FIT 2\n\nFit a linear, polynomial (poly2), and a polynomial (poly3) functions and to the following selections of the data:\n2. Select stars only with with $-1< GLAT < 1$ <br>\n   __Fit Fe\\_H,  (Fe\\_H\\_ERR)  vs.  O\\_FE (O\\_FE\\_ERR)__<br>\n\nFor this fit of the above selection:\n\n1. What are the best-fit values of the parameters? \n2. Which fucntion fits the data best?\n3. Is there a second population? (Can you fit outliers with a reasonable linear trend?)",
      "metadata": {}
    },
    {
      "cell_type": "code",
      "source": "badbits = 2**23        # aspcapstar flag - Chemistry\nsuspectbits = 2**16    # star flag - Stellar parameters\n\n#=================================================================================\n# Make a Boolena Mask to remove bad data - AND ANY OTHER NEEDED CUTS \n# (e.g., −2 < GLAT < 2 ) or other 'bad' data not removed by the flags.\nct1 = (np.bitwise_and(star['aspcapflag'], badbits) == 0) & \\\n     (np.bitwise_and(star['starflag'], suspectbits) == 0) & \\\n     (star['GLAT'] < 1) &\\\n     (star['GLAT'] > -1) &\\\n     np.invert(np.isnan(star['FE_H'])) &\\\n     np.invert(np.isnan(star['O_FE']))    \ncut1 = np.where(ct1)[0]\n\n#=================================================================================\n## LINEAR FIT (2 parameter)\nslope, intercept = mcFit2(linear, star['FE_H'][cut1], star['O_FE'][cut1], 0.001, \\\n                          0.001, p0=[0,0])\nprint(f'LINEAR: {slope:.3f}, {intercept:.3f}')\n\n#=================================================================================\n## POLY2 FIT (3 parameter)\npolyA, polyB, polyC,  = mcFit3(poly2, star['FE_H'][cut1], star['O_FE'][cut1], 0.001, \\\n                         0.001,p0=[10,1,1])\nprint(f'POLY2: {polyA:.3f}, {polyB:.3f}, {polyC:.3f}')\n\n#=================================================================================\n## COS FIT (4 parameter)\n# cfA, cfB, cfC, cfD = mcFit4(cosfit, star['FE_H'][cut1], star['O_FE'][cut1], 0.001, \\\n#                            0.001,p0=[2,0.02,0,0])\n# print(f'COSFIT: {cfA:.3f}, {cfB:.3f}, {cfC:.3f}, {cfD:.3f}')\n#=================================================================================\n\npolyA, polyB, polyC, polyD = mcFit4(poly3, star['FE_H'][cut1], star['O_FE'][cut1], 0.001, \\\n                                    0.001,p0=[0.5,1,1,1])\nprint(f'POLY3: {polyA:.3f}, {polyB:.3f}, {polyC:.3f}, {polyD:.3f}')\n\n# PLOT TO VERIFY FITS FILE READ IN & BAD MASK DATA\nfig1 = plt.figure(figsize=(10,7))\nax1 = fig1.add_subplot(111)\nax1.xaxis.set_tick_params(labelsize=20)\nax1.yaxis.set_tick_params(labelsize=20)\n\n# PLOT DATA AND ERROR BARS\nax1.scatter(star['FE_H'][cut1],star['O_FE'][cut1],s=1,c='b',alpha=0.1)\nax1.errorbar((star['FE_H'][cut1]),star['O_FE'][cut1], xerr=(0.001),\n             yerr=(0.001), ecolor='grey',fmt='none', capsize=5, zorder=0)\n\n\n#=================================================================================\n# PLOT DATA FITS FROM ABOVE\nx_plot = np.linspace(-2.5,0.5,1000) # X-PLOTING FOR FITS\n\n#=================================================================================\n#linear fit\nax1.plot(x_plot,linear(x_plot, slope, intercept), label='Fit: linear')\n#poly2 fit\nax1.plot(x_plot,poly2(x_plot, polyA, polyB, polyC), label='Fit: poly2')\n#cosfit\nax1.plot(x_plot,cosfit(x_plot, cfA, cfB, cfC, cfD), label='Fit: poly3')\n\nplt.legend(loc='best', fontsize=18)\nplt.show()",
      "metadata": {
        "trusted": true
      },
      "outputs": [],
      "execution_count": null
    },
    {
      "cell_type": "markdown",
      "source": "## DATA FIT 3\n\nFit a linear, polynomial (poly3), and a exponetial functions and to the following selections of the data:\n3. Select stars only with with $340 < GLON < 360$ <br>\n   __Fit TEFF,  (TEFF\\_ERR)  vs.  LOGG (LOGG\\_ERR)__<br>\n\nFor this fit of the above selection:\n\n1. What are the best-fit values of the parameters? \n2. Which fucntion fits the data best?\n3. Is there a second population? (Can you fit outliers with a reasonable linear trend?)",
      "metadata": {}
    },
    {
      "cell_type": "code",
      "source": "badbits = 2**23        # aspcapstar flag - Chemistry\nsuspectbits = 2**16    # star flag - Stellar parameters\n\n#=================================================================================\n# Make a Boolena Mask to remove bad data - AND ANY OTHER NEEDED CUTS \n# (e.g., −2 < GLAT < 2 ) or other 'bad' data not removed by the flags.\nct1 = (np.bitwise_and(star['aspcapflag'], badbits) == 0) & \\\n     (np.bitwise_and(star['starflag'], suspectbits) == 0) & \\\n     (star['GLON'] < 360) &\\\n     (star['GLON'] > 340) &\\\n     np.invert(np.isnan(star['TEFF'])) &\\\n     np.invert(np.isnan(star['LOGG']))    \ncut1 = np.where(ct1)[0]\n\n#=================================================================================\n## LINEAR FIT (2 parameter)\nslope, intercept = mcFit2(linear, star['TEFF'][cut1], star['LOGG'][cut1], 0.001, \\\n                          0.001, p0=[0,0])\nprint(f'LINEAR: {slope:.3f}, {intercept:.3f}')\n\n#=================================================================================\n## POLY2 FIT (3 parameter)\n# polyA, polyB, polyC,  = mcFit3(poly2, star['FE_H'][cut1], star['O_FE'][cut1], 0.001, \\\n#                         0.001,p0=[10,1,1])\n# print(f'POLY2: {polyA:.3f}, {polyB:.3f}, {polyC:.3f}')\n\n#=================================================================================\n## Exponential Fit (4 parameter)\neA, eB, eC, eD = mcFit4(expoential, star['TEFF'][cut1], star['LOGG'][cut1], 0.001, \\\n                            0.001,p0=[2,1,-2,0])\nprint(f'EXPONENTIAL: {eA:.3f}, {eB:.3f}, {eC:.3f}, {eD:.3f}')\n#=================================================================================\n\n\n# PLOT TO VERIFY FITS FILE READ IN & BAD MASK DATA\nfig1 = plt.figure(figsize=(10,7))\nax1 = fig1.add_subplot(111)\nax1.xaxis.set_tick_params(labelsize=20)\nax1.yaxis.set_tick_params(labelsize=20)\n\n# PLOT DATA AND ERROR BARS\nax1.scatter(star['TEFF'][cut1],star['LOGG'][cut1],s=1,c='b',alpha=0.1)\nax1.errorbar((star['TEFF'][cut1]),star['LOGG'][cut1], xerr=(0.001),\n             yerr=(0.001), ecolor='grey',fmt='none', capsize=5, zorder=0)\n\n\n#=================================================================================\n# PLOT DATA FITS FROM ABOVE\nx_plot = np.linspace(3000,20000,1000) # X-PLOTING FOR FITS\n\n#=================================================================================\n#linear fit\nax1.plot(x_plot,linear(x_plot, slope, intercept), label='Fit: linear')\n#poly2 fit\n# ax1.plot(x_plot,poly2(x_plot, polyA, polyB, polyC), label='Fit: poly2')\n#polyfit_3\nax1.plot(x_plot,poly3(x_plot, polyA, polyB, polyC, polyD), label='Fit: poly3')\n#EXPONENTIAL\nax1.plot(x_plot,exponential(x_plot, eA, eB, eC, eD), label='Fit: exponential')\n\nplt.legend(loc='best', fontsize=18)\nplt.show()",
      "metadata": {
        "trusted": true
      },
      "outputs": [],
      "execution_count": null
    },
    {
      "cell_type": "markdown",
      "source": "## DATA FIT 4\n\nFit  a linear, a exponential, and a polynomial (poly2) functions and to the following selections of the data:\n4. Select stars only with with $DEC < -50$ and $50 < RA < 120$ <br>\n   __Fit TEFF,  (TEFF\\_ERR)   vs.  (star['J'] - star['K']) (JK_ERR)__<br>\n<br>\n<b>NOTE: you will have to create a (J-K) error:</b>  JK_ERR = np.sqrt( J\\_ERR^2 + K\\_ERR^2 )<br> \n\nFor this fit of the above selection:\n\n1. What are the best-fit values of the parameters? \n2. Which fucntion fits the data best?\n3. Is there a second population? (Can you fit outliers with a reasonable linear trend?)",
      "metadata": {}
    },
    {
      "cell_type": "code",
      "source": "badbits = 2**23        # aspcapstar flag - Chemistry\nsuspectbits = 2**16    # star flag - Stellar parameters\n\n#=================================================================================\n# Make a Boolena Mask to remove bad data - AND ANY OTHER NEEDED CUTS \n# (e.g., −2 < GLAT < 2 ) or other 'bad' data not removed by the flags.\nct1 = (np.bitwise_and(star['aspcapflag'], badbits) == 0) & \\\n     (np.bitwise_and(star['starflag'], suspectbits) == 0) & \\\n     (star['RA'] < 120) &\\\n     (star['RA'] > 50) &\\\n     (star['DEC'] < -50) &\\\n     np.invert(np.isnan(star['TEFF'])) &\\\n     np.invert(np.isnan((star['J'])-(star['K'])))    \ncut1 = np.where(ct1)[0]\n\n#=================================================================================\n## LINEAR FIT (2 parameter)\nslope, intercept = mcFit2(linear, star['TEFF'][cut1], star['J']-(star['K']))[cut1], 0.001, \\\n                          0.001, p0=[0,0])\nprint(f'LINEAR: {slope:.3f}, {intercept:.3f}')\n\n#=================================================================================\n## POLY2 FIT (3 parameter)\npolyA, polyB, polyC,  = mcFit3(poly2, star['TEFF'][cut1], ((star['J']-(star['K']))[cut1], 0.001, \\\n                         0.001,p0=[600,1,1])\nprint(f'POLY2: {polyA:.3f}, {polyB:.3f}, {polyC:.3f}')\n\n#=================================================================================\n## Exponential Fit (4 parameter)\neA, eB, eC, eD = mcFit4(expoential, star['TEFF'][cut1], ((star['J']-(star['K']))[cut1], 0.001, \\\n                            0.001,p0=[0.6,-0.2,-2500,1])\nprint(f'EXPONENTIAL: {eA:.3f}, {eB:.3f}, {eC:.3f}, {eD:.3f}')\n#=================================================================================\n\n\n# PLOT TO VERIFY FITS FILE READ IN & BAD MASK DATA\nfig1 = plt.figure(figsize=(10,7))\nax1 = fig1.add_subplot(111)\nax1.xaxis.set_tick_params(labelsize=20)\nax1.yaxis.set_tick_params(labelsize=20)\n\n# PLOT DATA AND ERROR BARS\nax1.scatter(star['TEFF'][cut1],((star['J']-(star['K']))[cut1],s=1,c='b',alpha=0.1)\nax1.errorbar((star['TEFF'][cut1]),((star['J']-(star['K']))[cut1], xerr=(0.001),\n             yerr=(0.001), ecolor='grey',fmt='none', capsize=5, zorder=0)\n\n\n#=================================================================================\n# PLOT DATA FITS FROM ABOVE\nx_plot = np.linspace(2500,20000,1000) # X-PLOTING FOR FITS\n\n#=================================================================================\n#linear fit\nax1.plot(x_plot,linear(x_plot, slope, intercept), label='Fit: linear')\n#poly2 fit\nax1.plot(x_plot,poly2(x_plot, polyA, polyB, polyC), label='Fit: poly2')\n#EXPONENTIAL\nax1.plot(x_plot,exponential(x_plot, eA, eB, eC, eD), label='Fit: exponential')\n\nplt.legend(loc='best', fontsize=18)\nplt.show()",
      "metadata": {
        "trusted": true
      },
      "outputs": [],
      "execution_count": null
    },
    {
      "cell_type": "markdown",
      "source": "## DATA FIT 5\n\nFit  a linear, a polynomial (poly3), and a cosfit functions and to the following selections of the data:\n5. Select stars only with with $-10< GLAT < 10$<br>\n   __Fit GLON (0.0001) vs.  VHEILO\\_AVG (VERR)__<br>\n<br>\n\nFor this fit of the above selection:\n\n1. What are the best-fit values of the parameters? \n2. Which fucntion fits the data best?\n3. Is there a second population? (Can you fit outliers with a reasonable linear trend?)",
      "metadata": {}
    },
    {
      "cell_type": "code",
      "source": "badbits = 2**23        # aspcapstar flag - Chemistry\nsuspectbits = 2**16    # star flag - Stellar parameters\n\n#=================================================================================\n# Make a Boolena Mask to remove bad data - AND ANY OTHER NEEDED CUTS \n# (e.g., −2 < GLAT < 2 ) or other 'bad' data not removed by the flags.\nct1 = (np.bitwise_and(star['aspcapflag'], badbits) == 0) & \\\n     (np.bitwise_and(star['starflag'], suspectbits) == 0) & \\\n     (star['GLAT'] < 10) &\\\n     (star['GLAT'] > 10) &\\\n     np.invert(np.isnan(star['GLON'])) &\\\n     np.invert(np.isnan((star['VHELIO_AVG']))    \ncut1 = np.where(ct1)[0]\n\n#=================================================================================\n## LINEAR FIT (2 parameter)\nslope, intercept = mcFit2(linear, star['TEFF'][cut1], star['J']-(star['K']))[cut1], 0.001, \\\n                          0.001, p0=[0,0])\nprint(f'LINEAR: {slope:.3f}, {intercept:.3f}')\n\n#=================================================================================\n## POLY2 FIT (3 parameter)\npolyA, polyB, polyC,  = mcFit3(poly2, star['GLON'][cut1], star['VHELIO_AVG'][cut1], 0.001, \\\n                         0.001,p0=[600,1,1])\nprint(f'POLY2: {polyA:.3f}, {polyB:.3f}, {polyC:.3f}')\n\n#=================================================================================\n## cos Fit (4 parameter)\ncfA, cfB, cfC, cfD = mcFit4(cosfit, star['GLON'][cut1], star['VHELIO_AVG'][cut1], 0.001, \\\n                            0.001,p0=[0.04,0.02,0,0])\nprint(f'COSFIT: {cfA:.3f}, {cfB:.3f}, {cfC:.3f}, {cfD:.3f}')\n#=================================================================================\n\n\n# PLOT TO VERIFY FITS FILE READ IN & BAD MASK DATA\nfig1 = plt.figure(figsize=(10,7))\nax1 = fig1.add_subplot(111)\nax1.xaxis.set_tick_params(labelsize=20)\nax1.yaxis.set_tick_params(labelsize=20)\n\n# PLOT DATA AND ERROR BARS\nax1.scatter(star['GLON'][cut1],star['VHELIO_AVG'][cut1],s=1,c='b',alpha=0.1)\nax1.errorbar((star['GLON'][cut1]),star['VHELIO_AVG'][cut1], xerr=(0.001),\n             yerr=(0.001), ecolor='grey',fmt='none', capsize=5, zorder=0)\n\n\n#=================================================================================\n# PLOT DATA FITS FROM ABOVE\nx_plot = np.linspace(0,360,1000) # X-PLOTING FOR FITS\n\n#=================================================================================\n#linear fit\nax1.plot(x_plot,linear(x_plot, slope, intercept), label='Fit: linear')\n#poly3 fit\nax1.plot(x_plot,poly3(x_plot, polyA, polyB, polyC, polyD), label='Fit: poly3')\n#Cos fit\nax1.plot(x_plot,cosfit(x_plot, cfA, cfB, cfC, cfD), label='Fit: cosfit')\n\nplt.legend(loc='best', fontsize=18)\nplt.show()",
      "metadata": {
        "trusted": true
      },
      "outputs": [],
      "execution_count": null
    },
    {
      "cell_type": "markdown",
      "source": "## DATA FIT 6\n\nFit  a linear and a polynomial (poly2 AND poly3) functions and to the following selections of the data:\n7. __Fit Fe\\_H,  (Fe\\_H\\_ERR)  vs.  NI\\_FE (NI\\_FE\\_ERR)__<br>\n<br>\n\nFor this fit of the above selection:\n\n1. What are the best-fit values of the parameters? \n2. Which fucntion fits the data best?\n3. Is there a second population? (Can you fit outliers with a reasonable linear trend?)",
      "metadata": {}
    },
    {
      "cell_type": "code",
      "source": "badbits = 2**23        # aspcapstar flag - Chemistry\nsuspectbits = 2**16    # star flag - Stellar parameters\n\n#=================================================================================\n# Make a Boolena Mask to remove bad data - AND ANY OTHER NEEDED CUTS \n# (e.g., −2 < GLAT < 2 ) or other 'bad' data not removed by the flags.\nct1 = (np.bitwise_and(star['aspcapflag'], badbits) == 0) & \\\n     (np.bitwise_and(star['starflag'], suspectbits) == 0) & \\\n     np.invert(np.isnan(star['FE_H'])) &\\\n     np.invert(np.isnan(star['NI_FE']))    \ncut1 = np.where(ct1)[0]\n\n#=================================================================================\n## LINEAR FIT (2 parameter)\nslope, intercept = mcFit2(linear, star['FE_H'][cut1], star['NI_FE'][cut1], 0.001, \\\n                          0.001, p0=[0,0])\nprint(f'LINEAR: {slope:.3f}, {intercept:.3f}')\n\n#=================================================================================\n## POLY2 FIT (3 parameter)\npolyA, polyB, polyC,  = mcFit3(poly2, star['FE_H'][cut1], star['NI_FE'][cut1], 0.001, \\\n                         0.001,p0=[10,1,1])\nprint(f'POLY2: {polyA:.3f}, {polyB:.3f}, {polyC:.3f}')\n\n#=================================================================================\n## COS FIT (4 parameter)\n# cfA, cfB, cfC, cfD = mcFit4(cosfit, star['FE_H'][cut1], star['O_FE'][cut1], 0.001, \\\n#                            0.001,p0=[0.5,1,1,1])\n# print(f'COSFIT: {cfA:.3f}, {cfB:.3f}, {cfC:.3f}, {cfD:.3f}')\n#=================================================================================\n## poly_3 fit(4 parameter)\npolyA, polyB, polyC, polyD = mcFit(poly3, star['FE_H'][cut1], star['NI_FE'][cut1], 0.001, \\\n                        0.001,p0=[10,1,1,1])\nprint(f'POLY3: {polyA:.3f}, {polyB:.3f}, {polyC:.3f}, {polyC:.3f}')\n\n\n# PLOT TO VERIFY FITS FILE READ IN & BAD MASK DATA\nfig1 = plt.figure(figsize=(10,7))\nax1 = fig1.add_subplot(111)\nax1.xaxis.set_tick_params(labelsize=20)\nax1.yaxis.set_tick_params(labelsize=20)\n\n# PLOT DATA AND ERROR BARS\nax1.scatter(star['FE_H'][cut1],star['NI_FE'][cut1],s=1,c='b',alpha=0.1)\nax1.errorbar((star['FE_H'][cut1]),star['NI_FE'][cut1], xerr=(0.001),\n             yerr=(0.001), ecolor='grey',fmt='none', capsize=5, zorder=0)\n\n\n#=================================================================================\n# PLOT DATA FITS FROM ABOVE\nx_plot = np.linspace(-2.5,1,1000) # X-PLOTING FOR FITS\n\n#=================================================================================\n#linear fit\nax1.plot(x_plot,linear(x_plot, slope, intercept), label='Fit: linear')\n#poly2 fit\nax1.plot(x_plot,poly2(x_plot, polyA, polyB, polyC), label='Fit: poly2')\n#poly_3fit\nax1.plot(x_plot,poly3(x_plot, polyA, polyB, polyC, polyD), label='Fit: poly3')\n\nplt.legend(loc='best', fontsize=18)\nplt.show()",
      "metadata": {
        "trusted": true
      },
      "outputs": [],
      "execution_count": null
    },
    {
      "cell_type": "code",
      "source": "",
      "metadata": {
        "trusted": true
      },
      "outputs": [],
      "execution_count": null
    }
  ]
}