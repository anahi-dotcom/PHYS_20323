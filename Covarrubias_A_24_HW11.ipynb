{
  "metadata": {
    "kernelspec": {
      "name": "python",
      "display_name": "Python (Pyodide)",
      "language": "python"
    },
    "language_info": {
      "codemirror_mode": {
        "name": "python",
        "version": 3
      },
      "file_extension": ".py",
      "mimetype": "text/x-python",
      "name": "python",
      "nbconvert_exporter": "python",
      "pygments_lexer": "ipython3",
      "version": "3.8"
    }
  },
  "nbformat_minor": 4,
  "nbformat": 4,
  "cells": [
    {
      "cell_type": "markdown",
      "source": "# PyObject:  Object-oriented programming HW 11",
      "metadata": {}
    },
    {
      "cell_type": "markdown",
      "source": "## Exercise 1  (from Monday's class)",
      "metadata": {}
    },
    {
      "cell_type": "markdown",
      "source": "1. Write a ``Particle`` class that can be used to represent a particle with a mass, a 3-d position, and a 3-d velocity.\n\n2. Write a method that can be used to compute the kinetic energy of the particle\n\n3. Write a method that takes another particle as an argument and finds the distance between the two particles\n\n4. Write a method that given a time interval ``dt`` will update the position of the particle to the new position based on the current position and velocity.\n\n5. Write a ``ChargedParticle`` class that inherits from the ``Particle`` class, but also has an attribute for the charge of the particle.\n",
      "metadata": {}
    },
    {
      "cell_type": "code",
      "source": "import numpy as np\n# your solution here\n\nclass ChargedParticle(Particle):\n\n    def __init__(self, mass, x, y, z, vx, vy, vz, charge):\n        self.mass = mass\n        self.x = x\n        self.y = y\n        self.z = z\n        self.vx = vx\n        self.vy = vy\n        self.vz = vz\n        self.charge = charge\n",
      "metadata": {},
      "outputs": [],
      "execution_count": null
    },
    {
      "cell_type": "code",
      "source": "import numpy as np\n# your solution here\n\nclass ChargedParticle(Particle):\n\n    def __init__(self, mass, x, y, z, vx, vy, vz, charge):\n        self.mass = mass\n        self.x = x\n        self.y = y\n        self.z = z\n        self.vx = vx\n        self.vy = vy\n        self.vz = vz\n        self.charge = charge\n\n    def kin_energy(self):\n        v = np.sqrt(((self.vx)**2)+((self.vy)**2)+((self.vz)**2))\n        k_e = 0.5*self.mass*(v**2)\n        return k_e\n\n    def distance(self, other):\n        d = np.sqrt(((abs(self.x-other.x))**2)+((abs(self.y-other.y))**2)+((abs(self.z-other.z))**2))\n        return d\n\n    def updated_pos(self, dt):\n        self.x = self.x + self.vx*dt\n        self.y = self.y + self.vy*dt\n        self.z = self.z + self.vz*dt",
      "metadata": {
        "trusted": true
      },
      "outputs": [
        {
          "ename": "<class 'NameError'>",
          "evalue": "name 'Particle' is not defined",
          "traceback": [
            "\u001b[0;31m---------------------------------------------------------------------------\u001b[0m",
            "\u001b[0;31mNameError\u001b[0m                                 Traceback (most recent call last)",
            "Cell \u001b[0;32mIn[1], line 4\u001b[0m\n\u001b[1;32m      1\u001b[0m \u001b[38;5;28;01mimport\u001b[39;00m \u001b[38;5;21;01mnumpy\u001b[39;00m \u001b[38;5;28;01mas\u001b[39;00m \u001b[38;5;21;01mnp\u001b[39;00m\n\u001b[1;32m      2\u001b[0m \u001b[38;5;66;03m# your solution here\u001b[39;00m\n\u001b[0;32m----> 4\u001b[0m \u001b[38;5;28;01mclass\u001b[39;00m \u001b[38;5;21;01mChargedParticle\u001b[39;00m(\u001b[43mParticle\u001b[49m):\n\u001b[1;32m      6\u001b[0m     \u001b[38;5;28;01mdef\u001b[39;00m \u001b[38;5;21m__init__\u001b[39m(\u001b[38;5;28mself\u001b[39m, mass, x, y, z, vx, vy, vz, charge):\n\u001b[1;32m      7\u001b[0m         \u001b[38;5;28mself\u001b[39m\u001b[38;5;241m.\u001b[39mmass \u001b[38;5;241m=\u001b[39m mass\n",
            "\u001b[0;31mNameError\u001b[0m: name 'Particle' is not defined"
          ],
          "output_type": "error"
        }
      ],
      "execution_count": 1
    },
    {
      "cell_type": "markdown",
      "source": "## Exercise 2  (New)",
      "metadata": {}
    },
    {
      "cell_type": "markdown",
      "source": "6. Write a method that can be used to see if a particle is in the same place (e.g., find_seperation < 0.25).  If there are two ChargedParticles in the same place make a \"simple\" (*not correct physics*) \"interaction\". (__have the code print \"interaction\"__).   \n\n    a. If the charges are opposite, make them \"combine\", set both velocities to zero and set their charge to zero, and print \"merge\".\n\n    b. Else, make the particles \"repel\", to do:\n    \n        multiply each \"self\" velocity and  by (-1 * (self.charge+other.charge) * (self.mass/other.mass))  \n    \n        multiply each \"other\" velocity by (-1 * (self.charge+other.charge) * (other.mass/self.mass)) \n    \n    e.g., reversing it's velocity, and print \"repel\". __(Again this is bad physics, but we are focusing on coding so play along.)__\n\n\n7. To test the above, write a code with two particles starting:\n\n        P1 at (x,y,z) = (-5,-5,-5) with (vx,vy,vz) = (1,1,1) and (charge = 0.5) \n\n        P2 at (x,y,z) = (5,5,5) with (vx,vy,vz) = (-1,-1,-1) and (charge = -0.5).  \n\n    Use your dt time interval to move the particles in 0.05 time steps for 300 steps, and print the current poition and velocity of each particle at each time step.  \n    \n\n8. To test the above, write a code with two particles starting: \n\n        P1 at (x,y,z) = (-5,-5,-5) with (vx,vy,vz) = (2,2,2) and (charge = 0.5) \n\n        P2 at (x,y,z) = (5,5,5) with (vx,vy,vz) = (-1,-1,-1) and (charge = 2.0).  \n\n    Use your dt time interval to move the particles in 0.05 time steps for 300 steps, and print the current poition and velocity of each particle at each time step.  \n",
      "metadata": {}
    },
    {
      "cell_type": "code",
      "source": "# write new code here\nclass ChargedParticle(Particle):\n    def __init__(self, x,y,z,vx,vy,vz,mass,charge):\n        self.x = x\n        self.y = y\n        self.z = z\n        self.vx = vx\n        self.vy = vy\n        self.vz = vz\n        self.mass = mass\n        self.charge = charge\n\n    def separation(self, other):\n        d = np.sqrt(((abs(self.x-other.x))**2)+((abs(self.y-other.y))**2)+((abs(self.z-other.z))**2))\n        if d < 0.25:\n            if (self.charge > 0 and other.charge < 0) or (self.charge < 0 and other.charge >0):\n                self.charge = 0\n                other.charge = 0\n                self.vx = 0\n                self.vy = 0\n                self.vz = 0\n                other.vx = 0\n                other.vy = 0\n                other.vz = 0\n                print(\"merge\")\n            elif (self.charge > 0 and other.charge > 0) or (self.charge < 0 and other.charge < 0):\n                self.vx = (-1)*(self.charge+other.charge)*(self.mass/other.mass)\n                self.vy = (-1)*(self.charge+other.charge)*(self.mass/other.mass)\n                self.vz = (-1)*(self.charge+other.charge)*(self.mass/other.mass)\n                other.vx = (-1)*(self.charge+other.charge)*(self.mass/other.mass)\n                other.vy = (-1)*(self.charge+other.charge)*(self.mass/other.mass)\n                other.vz = (-1)*(self.charge+other.charge)*(self.mass/other.mass)\n                print(\"repel\")\n            print(\"intercation\")\n\n    def updated_pos(self, dt):\n        self.x = self.x + self.vx*dt\n        self.y = self.y + self.vy*dt\n        self.z = self.z + self.vz*dt",
      "metadata": {
        "trusted": true
      },
      "outputs": [
        {
          "ename": "<class 'NameError'>",
          "evalue": "name 'Particle' is not defined",
          "traceback": [
            "\u001b[0;31m---------------------------------------------------------------------------\u001b[0m",
            "\u001b[0;31mNameError\u001b[0m                                 Traceback (most recent call last)",
            "Cell \u001b[0;32mIn[3], line 2\u001b[0m\n\u001b[1;32m      1\u001b[0m \u001b[38;5;66;03m# write new code here\u001b[39;00m\n\u001b[0;32m----> 2\u001b[0m \u001b[38;5;28;01mclass\u001b[39;00m \u001b[38;5;21;01mChargedParticle\u001b[39;00m(\u001b[43mParticle\u001b[49m):\n\u001b[1;32m      3\u001b[0m     \u001b[38;5;28;01mdef\u001b[39;00m \u001b[38;5;21m__init__\u001b[39m(\u001b[38;5;28mself\u001b[39m, x,y,z,vx,vy,vz,mass,charge):\n\u001b[1;32m      4\u001b[0m         \u001b[38;5;28mself\u001b[39m\u001b[38;5;241m.\u001b[39mx \u001b[38;5;241m=\u001b[39m x\n",
            "\u001b[0;31mNameError\u001b[0m: name 'Particle' is not defined"
          ],
          "output_type": "error"
        }
      ],
      "execution_count": 3
    },
    {
      "cell_type": "code",
      "source": "p1 = ChargedParticle(-5,-5,-5,1,1,1,10,0.5)\np2 = ChargedParticle(5,5,5,-1,-1,-1,10,-0.5)\np3 = ChargedParticle(-5,-5,-5,2,2,2,10,0.5)\np4 = ChargedParticle(5,5,5,-1,-1,-1,10,2)",
      "metadata": {
        "trusted": true
      },
      "outputs": [
        {
          "ename": "<class 'NameError'>",
          "evalue": "name 'ChargedParticle' is not defined",
          "traceback": [
            "\u001b[0;31m---------------------------------------------------------------------------\u001b[0m",
            "\u001b[0;31mNameError\u001b[0m                                 Traceback (most recent call last)",
            "Cell \u001b[0;32mIn[4], line 1\u001b[0m\n\u001b[0;32m----> 1\u001b[0m p1 \u001b[38;5;241m=\u001b[39m \u001b[43mChargedParticle\u001b[49m(\u001b[38;5;241m-\u001b[39m\u001b[38;5;241m5\u001b[39m,\u001b[38;5;241m-\u001b[39m\u001b[38;5;241m5\u001b[39m,\u001b[38;5;241m-\u001b[39m\u001b[38;5;241m5\u001b[39m,\u001b[38;5;241m1\u001b[39m,\u001b[38;5;241m1\u001b[39m,\u001b[38;5;241m1\u001b[39m,\u001b[38;5;241m10\u001b[39m,\u001b[38;5;241m0.5\u001b[39m)\n\u001b[1;32m      2\u001b[0m p2 \u001b[38;5;241m=\u001b[39m ChargedParticle(\u001b[38;5;241m5\u001b[39m,\u001b[38;5;241m5\u001b[39m,\u001b[38;5;241m5\u001b[39m,\u001b[38;5;241m-\u001b[39m\u001b[38;5;241m1\u001b[39m,\u001b[38;5;241m-\u001b[39m\u001b[38;5;241m1\u001b[39m,\u001b[38;5;241m-\u001b[39m\u001b[38;5;241m1\u001b[39m,\u001b[38;5;241m10\u001b[39m,\u001b[38;5;241m-\u001b[39m\u001b[38;5;241m0.5\u001b[39m)\n\u001b[1;32m      3\u001b[0m p3 \u001b[38;5;241m=\u001b[39m ChargedParticle(\u001b[38;5;241m-\u001b[39m\u001b[38;5;241m5\u001b[39m,\u001b[38;5;241m-\u001b[39m\u001b[38;5;241m5\u001b[39m,\u001b[38;5;241m-\u001b[39m\u001b[38;5;241m5\u001b[39m,\u001b[38;5;241m2\u001b[39m,\u001b[38;5;241m2\u001b[39m,\u001b[38;5;241m2\u001b[39m,\u001b[38;5;241m10\u001b[39m,\u001b[38;5;241m0.5\u001b[39m)\n",
            "\u001b[0;31mNameError\u001b[0m: name 'ChargedParticle' is not defined"
          ],
          "output_type": "error"
        }
      ],
      "execution_count": 4
    },
    {
      "cell_type": "code",
      "source": "for dt in np.arange(0,300,0.05):\n    p1.updated_pos(dt)\n    p2.updated_pos(dt)\n    p1.separation(p2)\n    p3.updated_pos(dt)\n    p4.updated_pos(dt)\n    p3.separation(p4)\n    print(p1.x,p2.x,p3.x,p4.x,p1.y,p2.y,p3.y,p4.y,p1.z,p2.z,p3.z,p4.z,p1.vx,p2.vx,p3.vx,p4.vx,p1.vy,p2.vy,p3.vy,p4.vy,p1.vz,p2.vz,p3.vz,p4.vz",
      "metadata": {
        "trusted": true
      },
      "outputs": [
        {
          "ename": "<class 'SyntaxError'>",
          "evalue": "incomplete input (<ipython-input-5-7588e25544c9>, line 8)",
          "traceback": [
            "\u001b[0;36m  Cell \u001b[0;32mIn[5], line 8\u001b[0;36m\u001b[0m\n\u001b[0;31m    print(p1.x,p2.x,p3.x,p4.x,p1.y,p2.y,p3.y,p4.y,p1.z,p2.z,p3.z,p4.z,p1.vx,p2.vx,p3.vx,p4.vx,p1.vy,p2.vy,p3.vy,p4.vy,p1.vz,p2.vz,p3.vz,p4.vz\u001b[0m\n\u001b[0m                                                                                                                                             ^\u001b[0m\n\u001b[0;31mSyntaxError\u001b[0m\u001b[0;31m:\u001b[0m incomplete input\n"
          ],
          "output_type": "error"
        }
      ],
      "execution_count": 5
    },
    {
      "cell_type": "code",
      "source": "",
      "metadata": {
        "trusted": true
      },
      "outputs": [],
      "execution_count": null
    }
  ]
}